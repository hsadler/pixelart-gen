{
 "cells": [
  {
   "cell_type": "code",
   "execution_count": 2,
   "metadata": {},
   "outputs": [],
   "source": [
    "import sys\n",
    "sys.path.append('..')\n",
    "\n",
    "from src.dataset import load_and_preprocess_dataset\n",
    "\n",
    "IMAGE_PIXEL_SIZE = 64\n",
    "DEVICE = \"mps\"\n",
    "BATCH_SIZE = 32 \n",
    "\n",
    "train_dl = load_and_preprocess_dataset(\n",
    "    path=\"tkarr/sprite_caption_dataset\",\n",
    "    split=\"train\",\n",
    "    image_pixel_size=IMAGE_PIXEL_SIZE,\n",
    "    batch_size=BATCH_SIZE,\n",
    ")\n",
    "\n",
    "valid_dl = load_and_preprocess_dataset(\n",
    "    path=\"tkarr/sprite_caption_dataset\",\n",
    "    split=\"valid\",\n",
    "    image_pixel_size=IMAGE_PIXEL_SIZE,\n",
    "    batch_size=BATCH_SIZE,\n",
    ")"
   ]
  },
  {
   "cell_type": "code",
   "execution_count": 8,
   "metadata": {},
   "outputs": [
    {
     "name": "stdout",
     "output_type": "stream",
     "text": [
      "Found 711 valid checksums in train set out of 0\n"
     ]
    }
   ],
   "source": [
    "\n",
    "import hashlib\n",
    "\n",
    "train_checksums = {}\n",
    "valid_checksums = {}\n",
    "\n",
    "for batch in train_dl:\n",
    "    for tensor in batch['tensor']:\n",
    "        cksum = hashlib.md5(tensor.numpy()).hexdigest()\n",
    "        train_checksums[cksum] = 1\n",
    "\n",
    "valid_checksums_found = 0\n",
    "for batch in valid_dl:\n",
    "    for tensor in batch['tensor']:\n",
    "        cksum = hashlib.md5(tensor.numpy()).hexdigest()\n",
    "        if cksum in train_checksums:\n",
    "            valid_checksums_found += 1\n",
    "\n",
    "print(f\"Found {valid_checksums_found} valid checksums in train set out of {len(valid_checksums)}\")"
   ]
  },
  {
   "cell_type": "code",
   "execution_count": null,
   "metadata": {},
   "outputs": [],
   "source": []
  },
  {
   "cell_type": "code",
   "execution_count": null,
   "metadata": {},
   "outputs": [],
   "source": []
  },
  {
   "cell_type": "code",
   "execution_count": null,
   "metadata": {},
   "outputs": [],
   "source": []
  }
 ],
 "metadata": {
  "kernelspec": {
   "display_name": "pixelart-gen-DbIzzoxj-py3.12",
   "language": "python",
   "name": "python3"
  },
  "language_info": {
   "codemirror_mode": {
    "name": "ipython",
    "version": 3
   },
   "file_extension": ".py",
   "mimetype": "text/x-python",
   "name": "python",
   "nbconvert_exporter": "python",
   "pygments_lexer": "ipython3",
   "version": "3.12.0"
  }
 },
 "nbformat": 4,
 "nbformat_minor": 2
}
