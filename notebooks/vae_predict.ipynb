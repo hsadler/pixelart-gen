{
 "cells": [
  {
   "cell_type": "code",
   "execution_count": 1,
   "metadata": {},
   "outputs": [
    {
     "data": {
      "application/vnd.jupyter.widget-view+json": {
       "model_id": "81bd3e40dab04c9fa7ed99f6be699711",
       "version_major": 2,
       "version_minor": 0
      },
      "text/plain": [
       "Map:   0%|          | 0/12830 [00:00<?, ? examples/s]"
      ]
     },
     "metadata": {},
     "output_type": "display_data"
    },
    {
     "data": {
      "application/vnd.jupyter.widget-view+json": {
       "model_id": "9f0e2d4013a641088ba415a4e194ef2e",
       "version_major": 2,
       "version_minor": 0
      },
      "text/plain": [
       "Map:   0%|          | 0/713 [00:00<?, ? examples/s]"
      ]
     },
     "metadata": {},
     "output_type": "display_data"
    }
   ],
   "source": [
    "import sys\n",
    "sys.path.append('..')\n",
    "\n",
    "from src.dataset import load_and_preprocess_dataset\n",
    "\n",
    "image_pixel_size = 64\n",
    "\n",
    "ds_train = load_and_preprocess_dataset(\n",
    "    path=\"tkarr/sprite_caption_dataset\",\n",
    "    split=\"train\",\n",
    "    image_pixel_size=image_pixel_size,\n",
    ")\n",
    "ds_valid = load_and_preprocess_dataset(\n",
    "    path=\"tkarr/sprite_caption_dataset\",\n",
    "    split=\"valid\",\n",
    "    image_pixel_size=image_pixel_size,\n",
    ")"
   ]
  },
  {
   "cell_type": "code",
   "execution_count": 5,
   "metadata": {},
   "outputs": [
    {
     "data": {
      "image/jpeg": "[encoded data removed]",
      "image/png": "[encoded data removed]",
      "text/plain": [
       "<PIL.Image.Image image mode=RGB size=64x64>"
      ]
     },
     "metadata": {},
     "output_type": "display_data"
    }
   ],
   "source": [
    "import torch\n",
    "from PIL import Image\n",
    "from IPython.display import display\n",
    "\n",
    "from src.utils import tensor_to_pil_image\n",
    "\n",
    "t: torch.Tensor = ds_train[0]['tensor']\n",
    "pil_image: Image.Image = tensor_to_pil_image(t)\n",
    "\n",
    "display(pil_image)\n"
   ]
  }
 ],
 "metadata": {
  "kernelspec": {
   "display_name": "pixelart-gen-DbIzzoxj-py3.12",
   "language": "python",
   "name": "python3"
  },
  "language_info": {
   "codemirror_mode": {
    "name": "ipython",
    "version": 3
   },
   "file_extension": ".py",
   "mimetype": "text/x-python",
   "name": "python",
   "nbconvert_exporter": "python",
   "pygments_lexer": "ipython3",
   "version": "3.12.0"
  }
 },
 "nbformat": 4,
 "nbformat_minor": 2
}
