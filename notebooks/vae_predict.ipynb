{
 "cells": [
  {
   "cell_type": "code",
   "execution_count": 13,
   "metadata": {},
   "outputs": [],
   "source": [
    "import sys\n",
    "sys.path.append('..')\n",
    "\n",
    "from src.dataset import load_and_preprocess_dataset\n",
    "\n",
    "image_pixel_size = 64\n",
    "device = \"cpu\"\n",
    "\n",
    "dl = load_and_preprocess_dataset(\n",
    "    path=\"tkarr/sprite_caption_dataset\",\n",
    "    split=\"valid\",\n",
    "    image_pixel_size=image_pixel_size,\n",
    "    batch_size=1,\n",
    ")"
   ]
  },
  {
   "cell_type": "code",
   "execution_count": 14,
   "metadata": {},
   "outputs": [
    {
     "name": "stdout",
     "output_type": "stream",
     "text": [
      "input_tensor_batch.shape: torch.Size([1, 3, 64, 64])\n"
     ]
    },
    {
     "data": {
      "image/jpeg": "[encoded data removed]",
      "image/png": "[encoded data removed]",
      "text/plain": [
       "<PIL.Image.Image image mode=RGB size=64x64>"
      ]
     },
     "metadata": {},
     "output_type": "display_data"
    }
   ],
   "source": [
    "from PIL import Image\n",
    "from IPython.display import display\n",
    "from pathlib import Path\n",
    "\n",
    "import torch\n",
    "\n",
    "from src.vae import ConvVAE\n",
    "from src.utils import tensor_batch_to_pil_images\n",
    "\n",
    "# Get the first batch from the data loader\n",
    "for batch in dl:\n",
    "    input_tensor_batch: torch.Tensor = batch[\"tensor\"]\n",
    "    break\n",
    "input_tensor_batch = input_tensor_batch.to(device)\n",
    "print(f\"input_tensor_batch.shape: {input_tensor_batch.shape}\")\n",
    "input_img: Image.Image = tensor_batch_to_pil_images(input_tensor_batch)[0]\n",
    "\n",
    "display(input_img)"
   ]
  },
  {
   "cell_type": "code",
   "execution_count": 15,
   "metadata": {},
   "outputs": [
    {
     "name": "stdout",
     "output_type": "stream",
     "text": [
      "Using PyTorch Lightning checkpoint format\n",
      "Hyperparameters: {'input_channels': 3, 'latent_dim': 128, 'hidden_dims': [256, 128, 64, 32], 'learning_rate': 0.0001}\n",
      "Debug - Network structure: input_size=64, hidden_dims=[256, 128, 64, 32]\n",
      "Debug - Last encoder size: 4, channels: 32\n",
      "Created model with parameters: hidden_dims=[32, 64, 128, 256]\n",
      "Error loading state dict, trying to match checkpoint weights...\n",
      "Sample encoder weight shape: torch.Size([32, 3, 3, 3])\n",
      "Detected checkpoint was trained with hidden_dims=[32, 64, 128, 256]\n",
      "Debug - Network structure: input_size=64, hidden_dims=[32, 64, 128, 256]\n",
      "Debug - Last encoder size: 4, channels: 256\n",
      "Successfully loaded state dict after adjusting hidden_dims!\n",
      "reconstructed.shape: torch.Size([1, 3, 64, 64])\n",
      "mu.shape: torch.Size([1, 128])\n",
      "log_var.shape: torch.Size([1, 128])\n",
      "num reconstructed images: 1\n"
     ]
    },
    {
     "data": {
      "image/jpeg": "[encoded data removed]",
      "image/png": "[encoded data removed]",
      "text/plain": [
       "<PIL.Image.Image image mode=RGB size=64x64>"
      ]
     },
     "metadata": {},
     "output_type": "display_data"
    }
   ],
   "source": [
    "from src.dataset import cleanup_dataloader\n",
    "\n",
    "# Load the model\n",
    "model = ConvVAE.load_model(Path(\"../checkpoints/vae-best.ckpt\"), device=device)\n",
    "\n",
    "# Use deterministic encoding and decoding for clearer images\n",
    "with torch.no_grad():\n",
    "    # Get the mean representation without sampling\n",
    "    mu, log_var = model.encode(input_tensor_batch)\n",
    "    # Decode directly from mu without adding random noise\n",
    "    reconstructed_tensor_batch = model.decode(mu)\n",
    "    print(f\"reconstructed.shape: {reconstructed_tensor_batch.shape}\")\n",
    "    print(f\"mu.shape: {mu.shape}\")\n",
    "    print(f\"log_var.shape: {log_var.shape}\")\n",
    "\n",
    "reconstructed_images: list[Image.Image] = tensor_batch_to_pil_images(reconstructed_tensor_batch)\n",
    "print(f\"num reconstructed images: {len(reconstructed_images)}\")\n",
    "display(reconstructed_images[0])\n",
    "\n",
    "cleanup_dataloader(dl)"
   ]
  }
 ],
 "metadata": {
  "kernelspec": {
   "display_name": "pixelart-gen-DbIzzoxj-py3.12",
   "language": "python",
   "name": "python3"
  },
  "language_info": {
   "codemirror_mode": {
    "name": "ipython",
    "version": 3
   },
   "file_extension": ".py",
   "mimetype": "text/x-python",
   "name": "python",
   "nbconvert_exporter": "python",
   "pygments_lexer": "ipython3",
   "version": "3.12.0"
  }
 },
 "nbformat": 4,
 "nbformat_minor": 2
}
